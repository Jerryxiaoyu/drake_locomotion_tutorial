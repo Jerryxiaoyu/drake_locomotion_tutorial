{
 "cells": [
  {
   "cell_type": "code",
   "execution_count": 1,
   "metadata": {
    "collapsed": true
   },
   "outputs": [],
   "source": [
    "import sys\n",
    "sys.path.append('/home/drl/PycharmProjects/underacuatedRoboics/drake/build/install/lib/python2.7/site-packages')"
   ]
  },
  {
   "cell_type": "code",
   "execution_count": 3,
   "metadata": {},
   "outputs": [
    {
     "name": "stderr",
     "output_type": "stream",
     "text": [
      "/home/drl/Downloads/ipykernel-4.7.0/ipykernel_launcher.py:145: DrakeDeprecationWarning: This API using Isometry3 is / will be deprecated soon with the resolution of #9865. We only offer it for backwards compatibility. DO NOT USE!.\n",
      "    Please see `help(pydrake.common.deprecation)` for more information.\n"
     ]
    },
    {
     "data": {
      "text/plain": [
       "<pydrake.multibody.tree.WeldJoint at 0x7fde04599a70>"
      ]
     },
     "execution_count": 3,
     "metadata": {},
     "output_type": "execute_result"
    }
   ],
   "source": [
    "import numpy as np\n",
    "import pydrake\n",
    "import os\n",
    "\n",
    "from pydrake.common import AddResourceSearchPath, FindResourceOrThrow\n",
    "\n",
    "from pydrake.multibody.tree import (UniformGravityFieldElement,\n",
    "                                              WeldJoint,)\n",
    "from pydrake.multibody.plant import MultibodyPlant\n",
    "from pydrake.multibody.parsing import Parser\n",
    "from pydrake.common.eigen_geometry import Isometry3\n",
    "from pydrake.math import RollPitchYaw\n",
    "\n",
    "from pydrake.systems.meshcat_visualizer import MeshcatVisualizer\n",
    "from pydrake.geometry import SceneGraph\n",
    "from pydrake.systems.primitives import SignalLogger\n",
    "\n",
    "from pydrake.systems.framework import DiagramBuilder\n",
    "from pydrake.systems.analysis import Simulator\n",
    "from pydrake.math import RigidTransform\n",
    "\n",
    "\n",
    "\n",
    "def render_system_with_graphviz(system, output_file=\"system_view.gz\"):\n",
    "    ''' Renders the Drake system (presumably a diagram,\n",
    "    otherwise this graph will be fairly trivial) using\n",
    "    graphviz to a specified file. '''\n",
    "    from graphviz import Source\n",
    "    string = system.GetGraphvizString()\n",
    "    src = Source(string)\n",
    "    src.render(output_file, view=False)\n",
    "\n",
    "\n",
    "table_top_z_in_world = 0.736 + 0.057 / 2\n",
    "\n",
    "apple_initial_position_in_world_frame = np.array([-0.2, -0.2, 10.])\n",
    "robot_initial_joint_angles = np.zeros(7)\n",
    "robot_initial_joint_angles[0] = 0.2\n",
    "\n",
    "timestep = 0.0002\n",
    "sim_duration= 10.0\n",
    "real_time_rate= 0.5\n",
    "is_test=False\n",
    "\n",
    "\n",
    "# set the path of models in the env\n",
    "iiwa_sdf_path = os.path.join(\n",
    "    pydrake.getDrakePath(),\n",
    "    \"manipulation\", \"models\", \"iiwa_description\", \"sdf\",\n",
    "    \"iiwa14_no_collision.sdf\")\n",
    "\n",
    "wsg50_sdf_path = os.path.join(\n",
    "    pydrake.getDrakePath(),\n",
    "    \"manipulation\", \"models\", \"wsg_50_description\", \"sdf\",\n",
    "    \"schunk_wsg_50.sdf\")\n",
    "\n",
    "table_sdf_path = os.path.join(\n",
    "    pydrake.getDrakePath(),\n",
    "    \"examples\", \"kuka_iiwa_arm\", \"models\", \"table\",\n",
    "    \"extra_heavy_duty_table_surface_only_collision.sdf\")\n",
    "\n",
    "apple_sdf_path = os.path.join(pydrake.getDrakePath(),\n",
    "  \"examples\", \"kuka_iiwa_arm\", \"models\", \"objects\", \"yellow_post.urdf\")\n",
    "\n",
    "ground_sdf_path = os.path.join(pydrake.getDrakePath(),\n",
    "   \"examples/atlas/sdf/ground_plane/model.sdf\")\n",
    "block_angle_steps_1 =os.path.join(pydrake.getDrakePath(), \"examples/atlas/sdf/block_angle_steps_1/model.sdf\")\n",
    "block_angle_steps_2 =os.path.join(pydrake.getDrakePath(), \"examples/atlas/sdf/block_angle_steps_2/model.sdf\")\n",
    "block_level_steps_1 =os.path.join(pydrake.getDrakePath(), \"examples/atlas/sdf/block_level_steps_1/model.sdf\")\n",
    "block_level_steps_2 =os.path.join(pydrake.getDrakePath(), \"examples/atlas/sdf/block_level_steps_2/model.sdf\")\n",
    "cinder_block_2 =os.path.join(pydrake.getDrakePath(), \"examples/atlas/sdf/cinder_block_2/model.sdf\")\n",
    "cinder_block_wide =os.path.join(pydrake.getDrakePath(), \"examples/atlas/sdf/cinder_block_wide/model.sdf\")\n",
    "\n",
    "bot_lab_path = os.path.join(\"/home/drl/PycharmProjects/underacuatedRoboics\", 'model_world/botlab/botlab.sdf')\n",
    "\n",
    "\n",
    "# construct multibodyplant\n",
    "mbp = MultibodyPlant(timestep)\n",
    "scene_graph = SceneGraph()\n",
    "mbp_parser = Parser(mbp, scene_graph)\n",
    "\n",
    "# Add models\n",
    "# iiwa_model = mbp_parser.AddModelFromFile(\n",
    "#     file_name=iiwa_sdf_path, model_name='robot')\n",
    "# gripper_model = mbp_parser.AddModelFromFile(\n",
    "#     file_name=wsg50_sdf_path, model_name='gripper')\n",
    "# table_model = mbp_parser.AddModelFromFile(\n",
    "#     file_name=table_sdf_path, model_name='table')\n",
    "# table2_model = mbp_parser.AddModelFromFile(\n",
    "#     file_name=table_sdf_path, model_name='table2')\n",
    "# apple_model = mbp_parser.AddModelFromFile(\n",
    "#     file_name=apple_sdf_path, model_name='apple')\n",
    "ground_model = mbp_parser.AddModelFromFile(\n",
    "    file_name=ground_sdf_path, model_name='ground'\n",
    ")\n",
    "bot_lab_model = mbp_parser.AddAllModelsFromFile(file_name=bot_lab_path)\n",
    "\n",
    "# # mount the gripper to iiwa\n",
    "# X_EeGripper = Isometry3.Identity()\n",
    "# X_EeGripper.set_translation([0, 0, 0.081])\n",
    "# X_EeGripper.set_rotation(RollPitchYaw(np.pi / 2, 0, np.pi / 2).ToRotationMatrix().matrix())\n",
    "#\n",
    "# mbp.AddJoint(\n",
    "#     WeldJoint(name=\"weld_gripper_to_robot_ee\",\n",
    "#               parent_frame_P=mbp.GetBodyByName(\n",
    "#                   \"iiwa_link_7\", iiwa_model).body_frame(),\n",
    "#               child_frame_C=mbp.GetBodyByName(\n",
    "#                   \"body\", gripper_model).body_frame(),\n",
    "#               X_PC=X_EeGripper))\n",
    "#\n",
    "# # mount the table to the ground\n",
    "# mbp.AddJoint(\n",
    "#     WeldJoint(name=\"weld_table_to_world\",\n",
    "#               parent_frame_P=mbp.world_body().body_frame(),\n",
    "#               child_frame_C=mbp.GetBodyByName(\n",
    "#                   \"link\", table_model).body_frame(),\n",
    "#               X_PC=Isometry3.Identity()))\n",
    "#\n",
    "# # mount the iiwa to the table\n",
    "# X_WRobot = Isometry3.Identity()\n",
    "# X_WRobot.set_translation([0, 0, table_top_z_in_world])\n",
    "# mbp.AddJoint(\n",
    "#     WeldJoint(name=\"weld_robot_to_world\",\n",
    "#               parent_frame_P=mbp.world_body().body_frame(),\n",
    "#               child_frame_C=mbp.GetBodyByName(\n",
    "#                   \"iiwa_link_0\", iiwa_model).body_frame(),\n",
    "#               X_PC=X_WRobot))\n",
    "#\n",
    "# # mount the table2 to the ground\n",
    "# X_WTable2 = Isometry3.Identity()\n",
    "# X_WTable2.set_translation([0.8, 0, 0])\n",
    "# mbp.AddJoint(\n",
    "#     WeldJoint(name='weld_table2_to_world',\n",
    "#               parent_frame_P=mbp.world_body().body_frame(),\n",
    "#               child_frame_C=mbp.GetBodyByName(\"link\", table2_model).body_frame(),\n",
    "#               X_PC=X_WTable2))\n",
    "#\n",
    "# mount the table2 to the ground\n",
    "X_Wground = Isometry3.Identity()\n",
    "\n",
    "mbp.AddJoint(\n",
    "    WeldJoint(name='weld_ground_to_world',\n",
    "              parent_frame_P=mbp.world_body().body_frame(),\n",
    "              child_frame_C=mbp.GetBodyByName(\"link\", ground_model).body_frame(),\n",
    "              X_PC=X_Wground))\n"
   ]
  },
  {
   "cell_type": "code",
   "execution_count": 15,
   "metadata": {},
   "outputs": [
    {
     "data": {
      "text/plain": [
       "<pydrake.multibody.tree.RigidBody at 0x7fa54e25c9f0>"
      ]
     },
     "execution_count": 15,
     "metadata": {},
     "output_type": "execute_result"
    }
   ],
   "source": [
    "mbp.GetBodyByName(\"link\", ground_model)"
   ]
  },
  {
   "cell_type": "code",
   "execution_count": 16,
   "metadata": {},
   "outputs": [
    {
     "data": {
      "text/plain": [
       "<pydrake.multibody.tree.RigidBody at 0x7fa54e2173f0>"
      ]
     },
     "execution_count": 16,
     "metadata": {},
     "output_type": "execute_result"
    }
   ],
   "source": [
    "mbp.get_body(mbp.GetBodyIndices(obj)[0])"
   ]
  },
  {
   "cell_type": "code",
   "execution_count": 4,
   "metadata": {},
   "outputs": [
    {
     "ename": "TypeError",
     "evalue": "set_rotation(): incompatible function arguments. The following argument types are supported:\n    1. (self: pydrake.math.RigidTransform, R: drake::math::RotationMatrix<double>) -> None\n\nInvoked with: <pydrake.math.RigidTransform object at 0x7fde3471d5f0>, array([[  1.00000000e+00,   0.00000000e+00,   0.00000000e+00],\n       [  0.00000000e+00,   6.12323400e-17,  -1.00000000e+00],\n       [ -0.00000000e+00,   1.00000000e+00,   6.12323400e-17]])",
     "output_type": "error",
     "traceback": [
      "\u001b[0;31m\u001b[0m",
      "\u001b[0;31mTypeError\u001b[0mTraceback (most recent call last)",
      "\u001b[0;32m<ipython-input-4-5ad84d01ee97>\u001b[0m in \u001b[0;36m<module>\u001b[0;34m()\u001b[0m\n\u001b[1;32m      1\u001b[0m \u001b[0mX_Wlab\u001b[0m \u001b[0;34m=\u001b[0m \u001b[0mRigidTransform\u001b[0m\u001b[0;34m(\u001b[0m\u001b[0;34m)\u001b[0m\u001b[0;34m.\u001b[0m\u001b[0mIdentity\u001b[0m\u001b[0;34m(\u001b[0m\u001b[0;34m)\u001b[0m\u001b[0;34m\u001b[0m\u001b[0m\n\u001b[0;32m----> 2\u001b[0;31m \u001b[0mX_Wlab\u001b[0m\u001b[0;34m.\u001b[0m\u001b[0mset_rotation\u001b[0m\u001b[0;34m(\u001b[0m\u001b[0mRollPitchYaw\u001b[0m\u001b[0;34m(\u001b[0m\u001b[0mnp\u001b[0m\u001b[0;34m.\u001b[0m\u001b[0mpi\u001b[0m \u001b[0;34m/\u001b[0m \u001b[0;36m2\u001b[0m\u001b[0;34m,\u001b[0m \u001b[0;36m0\u001b[0m\u001b[0;34m,\u001b[0m \u001b[0;36m0\u001b[0m\u001b[0;34m)\u001b[0m\u001b[0;34m.\u001b[0m\u001b[0mToRotationMatrix\u001b[0m\u001b[0;34m(\u001b[0m\u001b[0;34m)\u001b[0m\u001b[0;34m.\u001b[0m\u001b[0mmatrix\u001b[0m\u001b[0;34m(\u001b[0m\u001b[0;34m)\u001b[0m\u001b[0;34m)\u001b[0m\u001b[0;34m\u001b[0m\u001b[0m\n\u001b[0m\u001b[1;32m      3\u001b[0m \u001b[0;31m#X_Wlab.set_rotation(RollPitchYaw(np.pi / 2, 0, 0).ToRotationMatrix().matrix())\u001b[0m\u001b[0;34m\u001b[0m\u001b[0;34m\u001b[0m\u001b[0m\n",
      "\u001b[0;31mTypeError\u001b[0m: set_rotation(): incompatible function arguments. The following argument types are supported:\n    1. (self: pydrake.math.RigidTransform, R: drake::math::RotationMatrix<double>) -> None\n\nInvoked with: <pydrake.math.RigidTransform object at 0x7fde3471d5f0>, array([[  1.00000000e+00,   0.00000000e+00,   0.00000000e+00],\n       [  0.00000000e+00,   6.12323400e-17,  -1.00000000e+00],\n       [ -0.00000000e+00,   1.00000000e+00,   6.12323400e-17]])"
     ]
    }
   ],
   "source": [
    "X_Wlab = RigidTransform().Identity()\n",
    "X_Wlab.set_rotation(RollPitchYaw(np.pi / 2, 0, 0).ToRotationMatrix().matrix())\n",
    "#X_Wlab.set_rotation(RollPitchYaw(np.pi / 2, 0, 0).ToRotationMatrix().matrix())\n"
   ]
  },
  {
   "cell_type": "code",
   "execution_count": 16,
   "metadata": {
    "collapsed": true
   },
   "outputs": [],
   "source": [
    "X_Wlab = RigidTransform().Identity()\n",
    "X_Wlab.set_rotation(RollPitchYaw(np.pi / 2, 0, 0).ToRotationMatrix())"
   ]
  },
  {
   "cell_type": "code",
   "execution_count": 17,
   "metadata": {},
   "outputs": [
    {
     "name": "stdout",
     "output_type": "stream",
     "text": [
      "[ 0.  0.  0.]\n",
      "[[  1.00000000e+00   0.00000000e+00   0.00000000e+00]\n",
      " [  0.00000000e+00   6.12323400e-17  -1.00000000e+00]\n",
      " [ -0.00000000e+00   1.00000000e+00   6.12323400e-17]]\n"
     ]
    }
   ],
   "source": [
    "print(X_Wlab.translation())\n",
    "print(X_Wlab.rotation().matrix())"
   ]
  },
  {
   "cell_type": "code",
   "execution_count": 15,
   "metadata": {},
   "outputs": [
    {
     "data": {
      "text/plain": [
       "<pydrake.math.RotationMatrix at 0x7fde0422fb30>"
      ]
     },
     "execution_count": 15,
     "metadata": {},
     "output_type": "execute_result"
    }
   ],
   "source": []
  },
  {
   "cell_type": "code",
   "execution_count": null,
   "metadata": {
    "collapsed": true
   },
   "outputs": [],
   "source": []
  },
  {
   "cell_type": "code",
   "execution_count": null,
   "metadata": {
    "collapsed": true
   },
   "outputs": [],
   "source": []
  },
  {
   "cell_type": "code",
   "execution_count": 8,
   "metadata": {},
   "outputs": [
    {
     "data": {
      "text/plain": [
       "<pydrake.multibody.tree.BodyFrame at 0x7fa5806b8a30>"
      ]
     },
     "execution_count": 8,
     "metadata": {},
     "output_type": "execute_result"
    }
   ],
   "source": [
    "for i,obj in enumerate(bot_lab_model):\n",
    "    mbp.AddJoint(\n",
    "        WeldJoint(name=\"weld_lab_to_world\"+str(i),\n",
    "                  parent_frame_P=mbp.world_body().body_frame(),\n",
    "                  child_frame_C=mbp.get_body(mbp.GetBodyIndices(obj)[0]).body_frame(),\n",
    "                  X_PC=X_Wlab))"
   ]
  },
  {
   "cell_type": "code",
   "execution_count": null,
   "metadata": {
    "collapsed": true
   },
   "outputs": [],
   "source": [
    "mbp."
   ]
  },
  {
   "cell_type": "code",
   "execution_count": null,
   "metadata": {
    "collapsed": true
   },
   "outputs": [],
   "source": []
  },
  {
   "cell_type": "code",
   "execution_count": null,
   "metadata": {
    "collapsed": true
   },
   "outputs": [],
   "source": []
  },
  {
   "cell_type": "code",
   "execution_count": 22,
   "metadata": {},
   "outputs": [
    {
     "data": {
      "text/plain": [
       "<pydrake.multibody.tree.RigidBody at 0x7f80694026b0>"
      ]
     },
     "execution_count": 22,
     "metadata": {},
     "output_type": "execute_result"
    }
   ],
   "source": [
    "mbp.get_body(mbp.GetBodyIndices(obj)[0])"
   ]
  },
  {
   "cell_type": "code",
   "execution_count": 11,
   "metadata": {},
   "outputs": [
    {
     "data": {
      "text/plain": [
       "<pydrake.multibody.tree.BodyFrame at 0x7f80988daaf0>"
      ]
     },
     "execution_count": 11,
     "metadata": {},
     "output_type": "execute_result"
    }
   ],
   "source": [
    "obj = bot_lab_model[0]\n",
    "mbp.get_body(mbp.GetBodyIndices(obj)[0]).body_frame()"
   ]
  },
  {
   "cell_type": "code",
   "execution_count": 12,
   "metadata": {},
   "outputs": [
    {
     "name": "stdout",
     "output_type": "stream",
     "text": [
      "Connecting to meshcat-server at zmq_url=tcp://127.0.0.1:6000...\n",
      "You can open the visualizer by visiting the following URL:\n",
      "http://127.0.0.1:7000/static/\n",
      "Connected to meshcat-server.\n"
     ]
    }
   ],
   "source": [
    "# Add gravity\n",
    "mbp.AddForceElement(UniformGravityFieldElement([0, 0, -9.81]))\n",
    "\n",
    "mbp.Finalize(scene_graph)\n",
    "assert mbp.geometry_source_is_registered()\n",
    "\n",
    "#%% Build drake diagram\n",
    "\n",
    "# Drake diagram\n",
    "builder = DiagramBuilder()\n",
    "builder.AddSystem(scene_graph)\n",
    "builder.AddSystem(mbp)\n",
    "\n",
    "# Add meshcat visualizer if not in test mode\n",
    "viz = None\n",
    "if not is_test:\n",
    "    viz = MeshcatVisualizer(scene_graph)\n",
    "    builder.AddSystem(viz)\n",
    "    builder.Connect(scene_graph.get_pose_bundle_output_port(),\n",
    "                    viz.get_input_port(0))\n",
    "\n",
    "# Connect scene_graph to MBP for collision detection.\n",
    "builder.Connect(\n",
    "    mbp.get_geometry_poses_output_port(),\n",
    "    scene_graph.get_source_pose_port(mbp.get_source_id()))\n",
    "builder.Connect(\n",
    "    scene_graph.get_query_output_port(),\n",
    "    mbp.get_geometry_query_input_port())\n",
    "\n",
    "# Add logger\n",
    "state_log = builder.AddSystem(SignalLogger(mbp.get_continuous_state_output_port().size()))\n",
    "state_log.DeclarePeriodicPublish(0.02)\n",
    "builder.Connect(mbp.get_continuous_state_output_port(), state_log.get_input_port(0))\n",
    "\n",
    "# Build diagram.\n",
    "diagram = builder.Build()\n",
    "if not is_test:\n",
    "    viz.load()\n",
    "\n",
    "# generate system diagram using graphviz if not in test mode\n",
    "if not is_test:\n",
    "    render_system_with_graphviz(diagram, \"view.gv\")\n",
    "\n",
    "diagram_context = diagram.CreateDefaultContext()\n",
    "mbp_context = diagram.GetMutableSubsystemContext(\n",
    "    mbp, diagram_context)\n",
    "# # Fix multibodyplant actuation input port to 0.\n",
    "\n",
    "#\n",
    "# # fix actuation input of iiwa\n",
    "# mbp_context.FixInputPort(\n",
    "#     mbp.get_input_port(3).get_index(),\n",
    "#     np.zeros(mbp.get_input_port(3).size()))\n",
    "# print('DOF of the iiwa : {}'.format(mbp.get_input_port(3).size()))\n",
    "#\n",
    "# # fix actuation input of gripper\n",
    "# mbp_context.FixInputPort(\n",
    "#     mbp.get_input_port(4).get_index(),\n",
    "#     np.zeros(mbp.get_input_port(4).size()))\n",
    "# print('DOF of the griper : {}'.format(mbp.get_input_port(4).size()))\n",
    "#\n",
    "# # set initial pose for the apple.\n",
    "# X_WApple = Isometry3.Identity()\n",
    "# X_WApple.set_translation(apple_initial_position_in_world_frame)\n",
    "# mbp.SetFreeBodyPose(mbp_context, mbp.GetBodyByName(\"base\", apple_model),\n",
    "#                            X_WApple)\n",
    "#\n",
    "#\n",
    "# # set initial posture of the iiwa arm.\n",
    "# for i, joint_angle in enumerate(robot_initial_joint_angles):\n",
    "#     iiwa_joint = mbp.GetJointByName(\"iiwa_joint_%d\"%(i+1))\n",
    "#     iiwa_joint.set_angle(context=mbp_context, angle=joint_angle)\n",
    "\n"
   ]
  },
  {
   "cell_type": "code",
   "execution_count": 14,
   "metadata": {},
   "outputs": [
    {
     "name": "stdout",
     "output_type": "stream",
     "text": [
      "[[ 1.  0.  0.  0.]\n",
      " [ 0.  1.  0.  0.]\n",
      " [ 0.  0.  1.  0.]\n",
      " [ 0.  0.  0.  1.]]\n",
      "[[ 1.  0.  0.  0.]\n",
      " [ 0.  1.  0.  0.]\n",
      " [ 0.  0.  1.  0.]\n",
      " [ 0.  0.  0.  1.]]\n",
      "[[ 1.  0.  0.  0.]\n",
      " [ 0.  1.  0.  0.]\n",
      " [ 0.  0.  1.  0.]\n",
      " [ 0.  0.  0.  1.]]\n",
      "[[ 1.  0.  0.  0.]\n",
      " [ 0.  1.  0.  0.]\n",
      " [ 0.  0.  1.  0.]\n",
      " [ 0.  0.  0.  1.]]\n",
      "[[ 1.  0.  0.  0.]\n",
      " [ 0.  1.  0.  0.]\n",
      " [ 0.  0.  1.  0.]\n",
      " [ 0.  0.  0.  1.]]\n",
      "[[ 1.  0.  0.  0.]\n",
      " [ 0.  1.  0.  0.]\n",
      " [ 0.  0.  1.  0.]\n",
      " [ 0.  0.  0.  1.]]\n",
      "[[ 1.  0.  0.  0.]\n",
      " [ 0.  1.  0.  0.]\n",
      " [ 0.  0.  1.  0.]\n",
      " [ 0.  0.  0.  1.]]\n",
      "[[ 1.  0.  0.  0.]\n",
      " [ 0.  1.  0.  0.]\n",
      " [ 0.  0.  1.  0.]\n",
      " [ 0.  0.  0.  1.]]\n",
      "[[ 1.  0.  0.  0.]\n",
      " [ 0.  1.  0.  0.]\n",
      " [ 0.  0.  1.  0.]\n",
      " [ 0.  0.  0.  1.]]\n",
      "[[ 1.  0.  0.  0.]\n",
      " [ 0.  1.  0.  0.]\n",
      " [ 0.  0.  1.  0.]\n",
      " [ 0.  0.  0.  1.]]\n",
      "[[ 1.  0.  0.  0.]\n",
      " [ 0.  1.  0.  0.]\n",
      " [ 0.  0.  1.  0.]\n",
      " [ 0.  0.  0.  1.]]\n",
      "[[ 1.  0.  0.  0.]\n",
      " [ 0.  1.  0.  0.]\n",
      " [ 0.  0.  1.  0.]\n",
      " [ 0.  0.  0.  1.]]\n",
      "[[ 1.  0.  0.  0.]\n",
      " [ 0.  1.  0.  0.]\n",
      " [ 0.  0.  1.  0.]\n",
      " [ 0.  0.  0.  1.]]\n",
      "[[ 1.  0.  0.  0.]\n",
      " [ 0.  1.  0.  0.]\n",
      " [ 0.  0.  1.  0.]\n",
      " [ 0.  0.  0.  1.]]\n",
      "[[ 1.  0.  0.  0.]\n",
      " [ 0.  1.  0.  0.]\n",
      " [ 0.  0.  1.  0.]\n",
      " [ 0.  0.  0.  1.]]\n",
      "[[ 1.  0.  0.  0.]\n",
      " [ 0.  1.  0.  0.]\n",
      " [ 0.  0.  1.  0.]\n",
      " [ 0.  0.  0.  1.]]\n",
      "[[ 1.  0.  0.  0.]\n",
      " [ 0.  1.  0.  0.]\n",
      " [ 0.  0.  1.  0.]\n",
      " [ 0.  0.  0.  1.]]\n",
      "[[ 1.  0.  0.  0.]\n",
      " [ 0.  1.  0.  0.]\n",
      " [ 0.  0.  1.  0.]\n",
      " [ 0.  0.  0.  1.]]\n",
      "[[ 1.  0.  0.  0.]\n",
      " [ 0.  1.  0.  0.]\n",
      " [ 0.  0.  1.  0.]\n",
      " [ 0.  0.  0.  1.]]\n",
      "[[ 1.  0.  0.  0.]\n",
      " [ 0.  1.  0.  0.]\n",
      " [ 0.  0.  1.  0.]\n",
      " [ 0.  0.  0.  1.]]\n",
      "[[ 1.  0.  0.  0.]\n",
      " [ 0.  1.  0.  0.]\n",
      " [ 0.  0.  1.  0.]\n",
      " [ 0.  0.  0.  1.]]\n",
      "[[ 1.  0.  0.  0.]\n",
      " [ 0.  1.  0.  0.]\n",
      " [ 0.  0.  1.  0.]\n",
      " [ 0.  0.  0.  1.]]\n",
      "[[ 1.  0.  0.  0.]\n",
      " [ 0.  1.  0.  0.]\n",
      " [ 0.  0.  1.  0.]\n",
      " [ 0.  0.  0.  1.]]\n",
      "[[ 1.  0.  0.  0.]\n",
      " [ 0.  1.  0.  0.]\n",
      " [ 0.  0.  1.  0.]\n",
      " [ 0.  0.  0.  1.]]\n"
     ]
    }
   ],
   "source": [
    "for obj in bot_lab_model:\n",
    "    print(mbp.CalcPointsPositions(mbp_context,\n",
    "                                  mbp.get_body(mbp.GetBodyIndices(obj)[0])).body_frame()\n",
    "         \n",
    "         )\n",
    "    \n",
    "    \n"
   ]
  },
  {
   "cell_type": "code",
   "execution_count": 64,
   "metadata": {
    "collapsed": true
   },
   "outputs": [],
   "source": [
    " \n",
    "# for i in bot_lab_model:\n",
    "#     print(mbp.EvalBodyPoseInWorld(mbp_context, mbp.get_body(mbp.GetBodyIndices(obj)[0])).GetAsMatrix4())"
   ]
  },
  {
   "cell_type": "code",
   "execution_count": null,
   "metadata": {
    "collapsed": true
   },
   "outputs": [],
   "source": [
    "\n",
    "# simulation\n",
    "simulator = Simulator(diagram, diagram_context)\n",
    "simulator.set_publish_every_time_step(False)\n",
    "simulator.set_target_realtime_rate(real_time_rate)\n",
    "simulator.Initialize()\n",
    "\n",
    "# Run simulation\n",
    "simulator.StepTo(sim_duration)"
   ]
  },
  {
   "cell_type": "code",
   "execution_count": null,
   "metadata": {
    "collapsed": true
   },
   "outputs": [],
   "source": []
  },
  {
   "cell_type": "code",
   "execution_count": null,
   "metadata": {
    "collapsed": true
   },
   "outputs": [],
   "source": []
  }
 ],
 "metadata": {
  "kernelspec": {
   "display_name": "Py27sys",
   "language": "python",
   "name": "python2"
  },
  "language_info": {
   "codemirror_mode": {
    "name": "ipython",
    "version": 2
   },
   "file_extension": ".py",
   "mimetype": "text/x-python",
   "name": "python",
   "nbconvert_exporter": "python",
   "pygments_lexer": "ipython2",
   "version": "2.7.12"
  }
 },
 "nbformat": 4,
 "nbformat_minor": 1
}
